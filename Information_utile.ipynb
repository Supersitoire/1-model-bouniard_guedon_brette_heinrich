{
 "cells": [
  {
   "attachments": {},
   "cell_type": "markdown",
   "metadata": {},
   "source": [
    "On design un chalet en bois, on prend du triple vitrage pour nos 1 fenêtres de 2 m², sur le mur  et pour lisolant on prend de la laine de roche. Pour une pièce de 3x4=12m², donc deux\n",
    "murs (appelés mur1) de 3m par 3m de hauteur, et deux de 4 par 3 (appelés mur2)."
   ]
  },
  {
   "cell_type": "code",
   "execution_count": null,
   "metadata": {},
   "outputs": [],
   "source": [
    "lambdabois=0.06\n",
    "lambdaverre=1\n",
    "lambdaair=0.024\n",
    "lambdalaine = 0.034\n",
    "everre=0.04\n",
    "eair=0.1\n",
    "elaine=0.25\n",
    "ebois=0.2\n",
    "Smur1 = 9\n",
    "Smur2=12\n",
    "Sfenetre=2\n",
    "Rmur1 = 2*ebois/(lambdabois*(Smur2-Sfenetre))+elaine/(lambdalaine*(Smur2-Sfenetre))\n",
    "Rfenetre = 3*everre/(lambdaverre*Sfenetre)+2*eair/(lamdaair*Sfenetre)\n",
    "Rmur2 = 2*ebois/(lambdabois*Smur2)+elaine/(lambdalaine*Smur2)"
   ]
  }
 ],
 "metadata": {
  "kernelspec": {
   "display_name": "Python 3",
   "language": "python",
   "name": "python3"
  },
  "language_info": {
   "name": "python",
   "version": "3.10.7"
  },
  "orig_nbformat": 4
 },
 "nbformat": 4,
 "nbformat_minor": 2
}
