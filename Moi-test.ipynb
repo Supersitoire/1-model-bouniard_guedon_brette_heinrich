{
 "cells": [
  {
   "cell_type": "code",
   "execution_count": null,
   "metadata": {},
   "outputs": [],
   "source": [
    "import numpy as np\n",
    "a = np.pi"
   ]
  },
  {
   "attachments": {},
   "cell_type": "markdown",
   "metadata": {},
   "source": [
    "## Dimensions of the building\n",
    "\n",
    "Here, we compute the dimensions of our 2 rooms"
   ]
  },
  {
   "cell_type": "code",
   "execution_count": null,
   "metadata": {},
   "outputs": [],
   "source": [
    "l_br=3 #lenght of the bedroom\n",
    "L_br=4 #width of the bedroom\n",
    "l_d= 3 #lenght of the dressing\n",
    "L_d= 2 #width of the dressing\n",
    "\n",
    "S_br= l_br*L_br  #surface bedroom\n",
    "S_d= l_d*L_d    #surface dressing\n",
    "    "
   ]
  }
 ],
 "metadata": {
  "kernelspec": {
   "display_name": "Python 3",
   "language": "python",
   "name": "python3"
  },
  "language_info": {
   "name": "python",
   "version": "3.10.7"
  },
  "orig_nbformat": 4
 },
 "nbformat": 4,
 "nbformat_minor": 2
}
